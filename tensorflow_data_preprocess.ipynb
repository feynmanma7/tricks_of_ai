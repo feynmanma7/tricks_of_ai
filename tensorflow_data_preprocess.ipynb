{
 "cells": [
  {
   "cell_type": "code",
   "execution_count": 2,
   "metadata": {},
   "outputs": [],
   "source": [
    "import tensorflow as tf\n",
    "import numpy as np"
   ]
  },
  {
   "cell_type": "code",
   "execution_count": 5,
   "metadata": {},
   "outputs": [
    {
     "name": "stdout",
     "output_type": "stream",
     "text": [
      "0 tf.Tensor([1 4 2 5], shape=(4,), dtype=int64)\n",
      "1 tf.Tensor([0 6 9 3], shape=(4,), dtype=int64)\n",
      "2 tf.Tensor([7 8 1 3], shape=(4,), dtype=int64)\n",
      "3 tf.Tensor([5 2 0 6], shape=(4,), dtype=int64)\n",
      "4 tf.Tensor([4 8 7 9], shape=(4,), dtype=int64)\n",
      "5 tf.Tensor([4 5 0 1], shape=(4,), dtype=int64)\n",
      "6 tf.Tensor([6 2 7 3], shape=(4,), dtype=int64)\n",
      "7 tf.Tensor([8 9], shape=(2,), dtype=int64)\n"
     ]
    }
   ],
   "source": [
    "dataset = tf.data.Dataset.from_tensor_slices(np.array(range(10)))\n",
    "dataset = dataset.shuffle(5).repeat(3).batch(4)\n",
    "for i, ele in enumerate(dataset):\n",
    "    print(i, ele)"
   ]
  },
  {
   "cell_type": "code",
   "execution_count": 6,
   "metadata": {},
   "outputs": [
    {
     "name": "stdout",
     "output_type": "stream",
     "text": [
      "0 tf.Tensor([0 3 2 5], shape=(4,), dtype=int64)\n",
      "1 tf.Tensor([7 1 6 8], shape=(4,), dtype=int64)\n",
      "2 tf.Tensor([0 9 4 5], shape=(4,), dtype=int64)\n",
      "3 tf.Tensor([6 4 2 8], shape=(4,), dtype=int64)\n",
      "4 tf.Tensor([9 0 1 3], shape=(4,), dtype=int64)\n",
      "5 tf.Tensor([4 2 5 7], shape=(4,), dtype=int64)\n",
      "6 tf.Tensor([7 1 8 9], shape=(4,), dtype=int64)\n",
      "7 tf.Tensor([3 6], shape=(2,), dtype=int64)\n"
     ]
    }
   ],
   "source": [
    "# shuffle first, then repeat, the whole data will be saved in one epoch.\n",
    "dataset = tf.data.Dataset.from_tensor_slices(np.array(range(10)))\n",
    "dataset = dataset.repeat(3).shuffle(5).batch(4)\n",
    "for i, ele in enumerate(dataset):\n",
    "    print(i, ele)"
   ]
  },
  {
   "cell_type": "code",
   "execution_count": 7,
   "metadata": {},
   "outputs": [
    {
     "name": "stdout",
     "output_type": "stream",
     "text": [
      "0 tf.Tensor([2 4 6 5], shape=(4,), dtype=int64)\n",
      "1 tf.Tensor([8 1 3 7], shape=(4,), dtype=int64)\n",
      "2 tf.Tensor([9 0], shape=(2,), dtype=int64)\n",
      "3 tf.Tensor([1 3 2 4], shape=(4,), dtype=int64)\n",
      "4 tf.Tensor([6 5 8 0], shape=(4,), dtype=int64)\n",
      "5 tf.Tensor([7 9], shape=(2,), dtype=int64)\n",
      "6 tf.Tensor([2 1 5 3], shape=(4,), dtype=int64)\n",
      "7 tf.Tensor([6 9 7 8], shape=(4,), dtype=int64)\n",
      "8 tf.Tensor([0 4], shape=(2,), dtype=int64)\n"
     ]
    }
   ],
   "source": [
    "dataset = tf.data.Dataset.from_tensor_slices(np.array(range(10)))\n",
    "dataset = dataset.shuffle(5).batch(4).repeat(3)\n",
    "for i, ele in enumerate(dataset):\n",
    "    print(i, ele)"
   ]
  },
  {
   "cell_type": "code",
   "execution_count": null,
   "metadata": {
    "collapsed": true
   },
   "outputs": [],
   "source": []
  }
 ],
 "metadata": {
  "kernelspec": {
   "display_name": "Python 3",
   "language": "python",
   "name": "python3"
  },
  "language_info": {
   "codemirror_mode": {
    "name": "ipython",
    "version": 3
   },
   "file_extension": ".py",
   "mimetype": "text/x-python",
   "name": "python",
   "nbconvert_exporter": "python",
   "pygments_lexer": "ipython3",
   "version": "3.6.2"
  }
 },
 "nbformat": 4,
 "nbformat_minor": 2
}
